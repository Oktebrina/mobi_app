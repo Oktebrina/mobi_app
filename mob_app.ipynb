{
 "cells": [
  {
   "cell_type": "code",
   "execution_count": 73,
   "metadata": {},
   "outputs": [],
   "source": [
    "import pandas as pd\n",
    "import datetime\n",
    "import numpy as np\n",
    "\n",
    "from scipy.stats import mannwhitneyu\n",
    "from scipy.stats import ttest_ind\n",
    "from scipy.stats import norm\n",
    "from statsmodels.stats.proportion import proportions_ztest\n",
    "import pingouin as pg\n",
    "\n",
    "import seaborn as sns\n",
    "import matplotlib.pyplot as plt\n",
    "\n",
    "import warnings\n",
    "import seaborn as sns\n",
    "from operator import attrgetter\n",
    "import matplotlib.colors as mcolors\n",
    "from datetime import datetime\n",
    "\n",
    "from tqdm.auto import tqdm\n",
    "\n",
    "\n",
    "plt.style.use('ggplot')"
   ]
  },
  {
   "cell_type": "markdown",
   "metadata": {},
   "source": [
    "**Задание 1**\n",
    "\n",
    "Retention – один из самых важных показателей в компании. Ваша задача – написать функцию, которая будет считать retention игроков (по дням от даты регистрации игрока).\n",
    "\n",
    "Функция должна быть написана на python. В ходе решения можно тестировать работу функции как на полном датасете, так и на части (сэмпле) данных."
   ]
  },
  {
   "cell_type": "code",
   "execution_count": 3,
   "metadata": {},
   "outputs": [],
   "source": [
    "# Считываем данные\n",
    "reg_data = pd.read_csv('problem1-reg_data.csv', sep = ';')\n",
    "\n",
    "auth_data = pd.read_csv('problem1-auth_data.csv', sep = ';')"
   ]
  },
  {
   "cell_type": "code",
   "execution_count": 4,
   "metadata": {},
   "outputs": [
    {
     "data": {
      "text/html": [
       "<div>\n",
       "<style scoped>\n",
       "    .dataframe tbody tr th:only-of-type {\n",
       "        vertical-align: middle;\n",
       "    }\n",
       "\n",
       "    .dataframe tbody tr th {\n",
       "        vertical-align: top;\n",
       "    }\n",
       "\n",
       "    .dataframe thead th {\n",
       "        text-align: right;\n",
       "    }\n",
       "</style>\n",
       "<table border=\"1\" class=\"dataframe\">\n",
       "  <thead>\n",
       "    <tr style=\"text-align: right;\">\n",
       "      <th></th>\n",
       "      <th>reg_ts</th>\n",
       "      <th>uid</th>\n",
       "    </tr>\n",
       "  </thead>\n",
       "  <tbody>\n",
       "    <tr>\n",
       "      <th>0</th>\n",
       "      <td>911382223</td>\n",
       "      <td>1</td>\n",
       "    </tr>\n",
       "    <tr>\n",
       "      <th>1</th>\n",
       "      <td>932683089</td>\n",
       "      <td>2</td>\n",
       "    </tr>\n",
       "    <tr>\n",
       "      <th>2</th>\n",
       "      <td>947802447</td>\n",
       "      <td>3</td>\n",
       "    </tr>\n",
       "    <tr>\n",
       "      <th>3</th>\n",
       "      <td>959523541</td>\n",
       "      <td>4</td>\n",
       "    </tr>\n",
       "    <tr>\n",
       "      <th>4</th>\n",
       "      <td>969103313</td>\n",
       "      <td>5</td>\n",
       "    </tr>\n",
       "  </tbody>\n",
       "</table>\n",
       "</div>"
      ],
      "text/plain": [
       "      reg_ts  uid\n",
       "0  911382223    1\n",
       "1  932683089    2\n",
       "2  947802447    3\n",
       "3  959523541    4\n",
       "4  969103313    5"
      ]
     },
     "execution_count": 4,
     "metadata": {},
     "output_type": "execute_result"
    }
   ],
   "source": [
    "# смотрим на данные \n",
    "reg_data.head()"
   ]
  },
  {
   "cell_type": "code",
   "execution_count": 5,
   "metadata": {},
   "outputs": [
    {
     "data": {
      "text/html": [
       "<div>\n",
       "<style scoped>\n",
       "    .dataframe tbody tr th:only-of-type {\n",
       "        vertical-align: middle;\n",
       "    }\n",
       "\n",
       "    .dataframe tbody tr th {\n",
       "        vertical-align: top;\n",
       "    }\n",
       "\n",
       "    .dataframe thead th {\n",
       "        text-align: right;\n",
       "    }\n",
       "</style>\n",
       "<table border=\"1\" class=\"dataframe\">\n",
       "  <thead>\n",
       "    <tr style=\"text-align: right;\">\n",
       "      <th></th>\n",
       "      <th>auth_ts</th>\n",
       "      <th>uid</th>\n",
       "    </tr>\n",
       "  </thead>\n",
       "  <tbody>\n",
       "    <tr>\n",
       "      <th>0</th>\n",
       "      <td>911382223</td>\n",
       "      <td>1</td>\n",
       "    </tr>\n",
       "    <tr>\n",
       "      <th>1</th>\n",
       "      <td>932683089</td>\n",
       "      <td>2</td>\n",
       "    </tr>\n",
       "    <tr>\n",
       "      <th>2</th>\n",
       "      <td>932921206</td>\n",
       "      <td>2</td>\n",
       "    </tr>\n",
       "    <tr>\n",
       "      <th>3</th>\n",
       "      <td>933393015</td>\n",
       "      <td>2</td>\n",
       "    </tr>\n",
       "    <tr>\n",
       "      <th>4</th>\n",
       "      <td>933875379</td>\n",
       "      <td>2</td>\n",
       "    </tr>\n",
       "  </tbody>\n",
       "</table>\n",
       "</div>"
      ],
      "text/plain": [
       "     auth_ts  uid\n",
       "0  911382223    1\n",
       "1  932683089    2\n",
       "2  932921206    2\n",
       "3  933393015    2\n",
       "4  933875379    2"
      ]
     },
     "execution_count": 5,
     "metadata": {},
     "output_type": "execute_result"
    }
   ],
   "source": [
    "auth_data.head()"
   ]
  },
  {
   "cell_type": "code",
   "execution_count": 6,
   "metadata": {},
   "outputs": [
    {
     "data": {
      "text/plain": [
       "(1000000, 2)"
      ]
     },
     "execution_count": 6,
     "metadata": {},
     "output_type": "execute_result"
    }
   ],
   "source": [
    "# смотри размеры датафрэймов\n",
    "reg_data.shape"
   ]
  },
  {
   "cell_type": "code",
   "execution_count": 7,
   "metadata": {},
   "outputs": [
    {
     "data": {
      "text/plain": [
       "True"
      ]
     },
     "execution_count": 7,
     "metadata": {},
     "output_type": "execute_result"
    }
   ],
   "source": [
    "# еще глянем все ли пользователи уникальные\n",
    "reg_data.reg_ts.nunique() == reg_data.shape[0]\n"
   ]
  },
  {
   "cell_type": "code",
   "execution_count": 8,
   "metadata": {},
   "outputs": [
    {
     "data": {
      "text/plain": [
       "(9601013, 2)"
      ]
     },
     "execution_count": 8,
     "metadata": {},
     "output_type": "execute_result"
    }
   ],
   "source": [
    "auth_data.shape"
   ]
  },
  {
   "cell_type": "code",
   "execution_count": 9,
   "metadata": {},
   "outputs": [
    {
     "data": {
      "text/plain": [
       "reg_ts    0\n",
       "uid       0\n",
       "dtype: int64"
      ]
     },
     "execution_count": 9,
     "metadata": {},
     "output_type": "execute_result"
    }
   ],
   "source": [
    "# проверим есть ли пропущенные значений\n",
    "reg_data.isna().sum()"
   ]
  },
  {
   "cell_type": "code",
   "execution_count": 10,
   "metadata": {},
   "outputs": [
    {
     "data": {
      "text/plain": [
       "auth_ts    0\n",
       "uid        0\n",
       "dtype: int64"
      ]
     },
     "execution_count": 10,
     "metadata": {},
     "output_type": "execute_result"
    }
   ],
   "source": [
    "auth_data.isna().sum()"
   ]
  },
  {
   "cell_type": "code",
   "execution_count": 11,
   "metadata": {},
   "outputs": [
    {
     "data": {
      "text/plain": [
       "reg_ts    int64\n",
       "uid       int64\n",
       "dtype: object"
      ]
     },
     "execution_count": 11,
     "metadata": {},
     "output_type": "execute_result"
    }
   ],
   "source": [
    "# смотрим на типы данных\n",
    "reg_data.dtypes"
   ]
  },
  {
   "cell_type": "code",
   "execution_count": 12,
   "metadata": {},
   "outputs": [
    {
     "data": {
      "text/plain": [
       "auth_ts    int64\n",
       "uid        int64\n",
       "dtype: object"
      ]
     },
     "execution_count": 12,
     "metadata": {},
     "output_type": "execute_result"
    }
   ],
   "source": [
    "auth_data.dtypes"
   ]
  },
  {
   "cell_type": "code",
   "execution_count": 13,
   "metadata": {},
   "outputs": [
    {
     "data": {
      "text/html": [
       "<div>\n",
       "<style scoped>\n",
       "    .dataframe tbody tr th:only-of-type {\n",
       "        vertical-align: middle;\n",
       "    }\n",
       "\n",
       "    .dataframe tbody tr th {\n",
       "        vertical-align: top;\n",
       "    }\n",
       "\n",
       "    .dataframe thead th {\n",
       "        text-align: right;\n",
       "    }\n",
       "</style>\n",
       "<table border=\"1\" class=\"dataframe\">\n",
       "  <thead>\n",
       "    <tr style=\"text-align: right;\">\n",
       "      <th></th>\n",
       "      <th>reg_ts</th>\n",
       "      <th>uid</th>\n",
       "    </tr>\n",
       "  </thead>\n",
       "  <tbody>\n",
       "    <tr>\n",
       "      <th>count</th>\n",
       "      <td>1.000000e+06</td>\n",
       "      <td>1.000000e+06</td>\n",
       "    </tr>\n",
       "    <tr>\n",
       "      <th>mean</th>\n",
       "      <td>1.548332e+09</td>\n",
       "      <td>5.552354e+05</td>\n",
       "    </tr>\n",
       "    <tr>\n",
       "      <th>std</th>\n",
       "      <td>5.253653e+07</td>\n",
       "      <td>3.206011e+05</td>\n",
       "    </tr>\n",
       "    <tr>\n",
       "      <th>min</th>\n",
       "      <td>9.113822e+08</td>\n",
       "      <td>1.000000e+00</td>\n",
       "    </tr>\n",
       "    <tr>\n",
       "      <th>25%</th>\n",
       "      <td>1.528034e+09</td>\n",
       "      <td>2.776438e+05</td>\n",
       "    </tr>\n",
       "    <tr>\n",
       "      <th>50%</th>\n",
       "      <td>1.564454e+09</td>\n",
       "      <td>5.550455e+05</td>\n",
       "    </tr>\n",
       "    <tr>\n",
       "      <th>75%</th>\n",
       "      <td>1.585759e+09</td>\n",
       "      <td>8.329712e+05</td>\n",
       "    </tr>\n",
       "    <tr>\n",
       "      <th>max</th>\n",
       "      <td>1.600874e+09</td>\n",
       "      <td>1.110622e+06</td>\n",
       "    </tr>\n",
       "  </tbody>\n",
       "</table>\n",
       "</div>"
      ],
      "text/plain": [
       "             reg_ts           uid\n",
       "count  1.000000e+06  1.000000e+06\n",
       "mean   1.548332e+09  5.552354e+05\n",
       "std    5.253653e+07  3.206011e+05\n",
       "min    9.113822e+08  1.000000e+00\n",
       "25%    1.528034e+09  2.776438e+05\n",
       "50%    1.564454e+09  5.550455e+05\n",
       "75%    1.585759e+09  8.329712e+05\n",
       "max    1.600874e+09  1.110622e+06"
      ]
     },
     "execution_count": 13,
     "metadata": {},
     "output_type": "execute_result"
    }
   ],
   "source": [
    "# смотрим описание \n",
    "reg_data.describe()"
   ]
  },
  {
   "cell_type": "code",
   "execution_count": 14,
   "metadata": {},
   "outputs": [
    {
     "data": {
      "text/html": [
       "<div>\n",
       "<style scoped>\n",
       "    .dataframe tbody tr th:only-of-type {\n",
       "        vertical-align: middle;\n",
       "    }\n",
       "\n",
       "    .dataframe tbody tr th {\n",
       "        vertical-align: top;\n",
       "    }\n",
       "\n",
       "    .dataframe thead th {\n",
       "        text-align: right;\n",
       "    }\n",
       "</style>\n",
       "<table border=\"1\" class=\"dataframe\">\n",
       "  <thead>\n",
       "    <tr style=\"text-align: right;\">\n",
       "      <th></th>\n",
       "      <th>auth_ts</th>\n",
       "      <th>uid</th>\n",
       "    </tr>\n",
       "  </thead>\n",
       "  <tbody>\n",
       "    <tr>\n",
       "      <th>count</th>\n",
       "      <td>9.601013e+06</td>\n",
       "      <td>9.601013e+06</td>\n",
       "    </tr>\n",
       "    <tr>\n",
       "      <th>mean</th>\n",
       "      <td>1.548778e+09</td>\n",
       "      <td>3.347198e+05</td>\n",
       "    </tr>\n",
       "    <tr>\n",
       "      <th>std</th>\n",
       "      <td>5.160527e+07</td>\n",
       "      <td>2.832669e+05</td>\n",
       "    </tr>\n",
       "    <tr>\n",
       "      <th>min</th>\n",
       "      <td>9.113822e+08</td>\n",
       "      <td>1.000000e+00</td>\n",
       "    </tr>\n",
       "    <tr>\n",
       "      <th>25%</th>\n",
       "      <td>1.528375e+09</td>\n",
       "      <td>9.599700e+04</td>\n",
       "    </tr>\n",
       "    <tr>\n",
       "      <th>50%</th>\n",
       "      <td>1.564577e+09</td>\n",
       "      <td>2.579210e+05</td>\n",
       "    </tr>\n",
       "    <tr>\n",
       "      <th>75%</th>\n",
       "      <td>1.585823e+09</td>\n",
       "      <td>5.190250e+05</td>\n",
       "    </tr>\n",
       "    <tr>\n",
       "      <th>max</th>\n",
       "      <td>1.600874e+09</td>\n",
       "      <td>1.110622e+06</td>\n",
       "    </tr>\n",
       "  </tbody>\n",
       "</table>\n",
       "</div>"
      ],
      "text/plain": [
       "            auth_ts           uid\n",
       "count  9.601013e+06  9.601013e+06\n",
       "mean   1.548778e+09  3.347198e+05\n",
       "std    5.160527e+07  2.832669e+05\n",
       "min    9.113822e+08  1.000000e+00\n",
       "25%    1.528375e+09  9.599700e+04\n",
       "50%    1.564577e+09  2.579210e+05\n",
       "75%    1.585823e+09  5.190250e+05\n",
       "max    1.600874e+09  1.110622e+06"
      ]
     },
     "execution_count": 14,
     "metadata": {},
     "output_type": "execute_result"
    }
   ],
   "source": [
    "auth_data.describe()"
   ]
  },
  {
   "cell_type": "markdown",
   "metadata": {},
   "source": [
    "**Вывод по данным:**\n",
    "    - нет пропущенных значений\n",
    "    - в таблице с регистрациями только уникальные пользователи\n",
    "    - дата в обоих таблицах задана в формате epoch, для удобства потребуется перевести в формат даты."
   ]
  },
  {
   "cell_type": "code",
   "execution_count": 15,
   "metadata": {},
   "outputs": [],
   "source": [
    "# теперь напишим функцию которая считает Retention\n",
    "\n",
    "def retention(reg = reg_data, \n",
    "              auth = auth_data,\n",
    "              date_from = '1998-11-18', # введем переменные с датами, что бы устанавливать нужный промежуток,\n",
    "              date_to = '2020-09-23',   # по умолчанию, весь датасэт\n",
    "              number_of_days = 3):      # так же зададим какой промежуток дней интересен для расчета Retention\n",
    "    \n",
    "    # если в данных дата указана в интах, переводим ее в datetime, если нет идем дальше.\n",
    "    if reg_data.reg_ts.dtypes == 'int64':\n",
    "        reg['reg_ts'] = pd.to_datetime(reg['reg_ts'],unit='s').dt.to_period('D')\n",
    "    if auth_data.auth_ts.dtypes == 'int64':\n",
    "        auth['auth_ts'] = pd.to_datetime(auth['auth_ts'],unit='s').dt.to_period('D')\n",
    "    \n",
    "    # фильтруем данные по заданным нам датам\n",
    "    reg = reg.query('reg_ts >= @date_from and reg_ts <= @date_to')\n",
    "    \n",
    "    # соединяем две таблицы в одну и берем только нужные нам столбцы\n",
    "    df = auth.merge(reg, how = 'left', on = 'uid')\n",
    "    df = df[['uid', 'reg_ts', 'auth_ts']]\n",
    "    \n",
    "    # групперуем по дате регистрации и по действиям, создаем когорты и считаем в них уникальных пользоватей\n",
    "    cohort_df = df.groupby(['reg_ts', 'auth_ts'], as_index=False).agg(user_count=('uid', 'nunique'))\n",
    "    \n",
    "    # добавляем столбец с днями, который равен разнице между датой регистрации и датой совершения действия\n",
    "    cohort_df['period_number'] = (cohort_df.auth_ts - cohort_df.reg_ts).apply(attrgetter('n'))\n",
    "    \n",
    "    # переворачиваем нашу таблицу     \n",
    "    cohort_pivot = cohort_df.pivot_table(index='reg_ts', columns='period_number', values='user_count') \\\n",
    "                            .rename_axis('Day_of_registration')\n",
    "    \n",
    "    # задаем размер когорты и считаем retention\n",
    "    cohort_size = cohort_pivot.iloc[:, 0]\n",
    "    retention_rate = cohort_pivot.divide(cohort_size, axis=0)\n",
    "    \n",
    "    # корректируем на нужное количество дней    \n",
    "    retention_rate = retention_rate.iloc[:, 0:(number_of_days + 1)]\n",
    "    \n",
    "    # строим график    \n",
    "    fig, ax = plt.subplots(1, 2, figsize=(12, 8), sharey=True, gridspec_kw={'width_ratios': [1, 11]})\n",
    "    sns.heatmap(retention_rate,\n",
    "            mask=retention_rate.isnull(),\n",
    "            annot=True,\n",
    "            fmt='.0%',\n",
    "            cmap='OrRd',\n",
    "            ax=ax[1])\n",
    "    ax[1].set_title('Daily Retention', fontsize=16)\n",
    "    ax[1].set(xlabel='Periods (№ of days)', ylabel='')\n",
    "    cohort_size_df = pd.DataFrame(cohort_size) \\\n",
    "                             .rename(columns={0: 'cohort size'})\n",
    "    white_cmap = mcolors.ListedColormap(['white'])\n",
    "    sns.heatmap(cohort_size_df,\n",
    "            annot=True,\n",
    "            cbar=False,\n",
    "            fmt='g',\n",
    "            cmap=white_cmap,\n",
    "            ax=ax[0])\n",
    "    fig.tight_layout()\n",
    "    \n",
    "    return fig.tight_layout(), retention_rate "
   ]
  },
  {
   "cell_type": "code",
   "execution_count": 16,
   "metadata": {},
   "outputs": [
    {
     "data": {
      "text/plain": [
       "(None,\n",
       " period_number          0         1         2         3         4         5  \\\n",
       " Day_of_registration                                                          \n",
       " 2020-08-01           1.0  0.019244  0.044459  0.043132  0.055740  0.059058   \n",
       " 2020-08-02           1.0  0.025845  0.040424  0.043738  0.051690  0.064944   \n",
       " 2020-08-03           1.0  0.017196  0.042989  0.040344  0.055556  0.061508   \n",
       " 2020-08-04           1.0  0.020476  0.035667  0.046896  0.052180  0.052840   \n",
       " 2020-08-05           1.0  0.025709  0.034937  0.040211  0.057350  0.050758   \n",
       " 2020-08-06           1.0  0.017117  0.050691  0.057275  0.055958  0.057275   \n",
       " 2020-08-07           1.0  0.021682  0.030880  0.052562  0.053219  0.059790   \n",
       " 2020-08-08           1.0  0.024278  0.047900  0.041995  0.054462  0.054462   \n",
       " 2020-08-09           1.0  0.020956  0.039293  0.046496  0.053700  0.070727   \n",
       " 2020-08-10           1.0  0.021583  0.031393  0.054938  0.058862  0.062786   \n",
       " 2020-08-11           1.0  0.018930  0.043081  0.045692  0.059399  0.063316   \n",
       " 2020-08-12           1.0  0.022164  0.036506  0.033898  0.039765  0.050196   \n",
       " 2020-08-13           1.0  0.016916  0.037085  0.051399  0.053351  0.063761   \n",
       " 2020-08-14           1.0  0.012995  0.042235  0.040936  0.062378  0.065627   \n",
       " 2020-08-15           1.0  0.018807  0.042153  0.046044  0.056420  0.059014   \n",
       " 2020-08-16           1.0  0.018770  0.031068  0.040777  0.055663  0.054369   \n",
       " 2020-08-17           1.0  0.023271  0.040724  0.041370  0.049774  0.056884   \n",
       " 2020-08-18           1.0  0.019367  0.044545  0.042608  0.051001  0.062621   \n",
       " 2020-08-19           1.0  0.023840  0.044459  0.053479  0.057345  0.062500   \n",
       " 2020-08-20           1.0  0.020579  0.045659  0.055949  0.054019  0.063023   \n",
       " 2020-08-21           1.0  0.017983  0.043674  0.048812  0.045601  0.061657   \n",
       " 2020-08-22           1.0  0.023718  0.044872  0.046795  0.054487  0.060256   \n",
       " 2020-08-23           1.0  0.024968  0.038412  0.048656  0.049296  0.069782   \n",
       " 2020-08-24           1.0  0.017891  0.041534  0.042812  0.051118  0.057508   \n",
       " 2020-08-25           1.0  0.019783  0.044033  0.047862  0.056796  0.052967   \n",
       " 2020-08-26           1.0  0.014650  0.034395  0.042038  0.045223  0.064331   \n",
       " 2020-08-27           1.0  0.016529  0.033694  0.047680  0.052130  0.055308   \n",
       " 2020-08-28           1.0  0.020317  0.045714  0.052698  0.047619  0.062857   \n",
       " 2020-08-29           1.0  0.025349  0.037389  0.046261  0.057034  0.055133   \n",
       " 2020-08-30           1.0  0.018354  0.034810  0.039241  0.053797  0.059494   \n",
       " 2020-08-31           1.0  0.018320  0.036639  0.042325  0.051169  0.068857   \n",
       " \n",
       " period_number               6  \n",
       " Day_of_registration            \n",
       " 2020-08-01           0.076311  \n",
       " 2020-08-02           0.066269  \n",
       " 2020-08-03           0.075397  \n",
       " 2020-08-04           0.064729  \n",
       " 2020-08-05           0.077785  \n",
       " 2020-08-06           0.075049  \n",
       " 2020-08-07           0.071616  \n",
       " 2020-08-08           0.072178  \n",
       " 2020-08-09           0.062868  \n",
       " 2020-08-10           0.064748  \n",
       " 2020-08-11           0.085509  \n",
       " 2020-08-12           0.056714  \n",
       " 2020-08-13           0.057254  \n",
       " 2020-08-14           0.059129  \n",
       " 2020-08-15           0.076524  \n",
       " 2020-08-16           0.067314  \n",
       " 2020-08-17           0.064641  \n",
       " 2020-08-18           0.061975  \n",
       " 2020-08-19           0.077320  \n",
       " 2020-08-20           0.077814  \n",
       " 2020-08-21           0.071291  \n",
       " 2020-08-22           0.071795  \n",
       " 2020-08-23           0.081946  \n",
       " 2020-08-24           0.076038  \n",
       " 2020-08-25           0.052967  \n",
       " 2020-08-26           0.065605  \n",
       " 2020-08-27           0.061666  \n",
       " 2020-08-28           0.062222  \n",
       " 2020-08-29           0.069708  \n",
       " 2020-08-30           0.065823  \n",
       " 2020-08-31           0.065066  )"
      ]
     },
     "execution_count": 16,
     "metadata": {},
     "output_type": "execute_result"
    },
    {
     "data": {
      "image/png": "[encoded data removed]",
      "text/plain": [
       "<Figure size 864x576 with 3 Axes>"
      ]
     },
     "metadata": {},
     "output_type": "display_data"
    }
   ],
   "source": [
    "# запускаем нашу функцию\n",
    "retention_1 = retention(reg_data, auth_data, date_from = '2020-08-01', date_to = '2020-08-31',  number_of_days = 6)\n",
    "retention_1"
   ]
  },
  {
   "cell_type": "code",
   "execution_count": 17,
   "metadata": {},
   "outputs": [
    {
     "data": {
      "text/plain": [
       "(None,\n",
       " period_number         0         1         2         3         4         5   \\\n",
       " Day_of_registration                                                          \n",
       " 2019-09-20           1.0  0.020089  0.041295  0.049107  0.056920  0.063616   \n",
       " 2019-09-21           1.0  0.018931  0.037862  0.055679  0.053452  0.050111   \n",
       " 2019-09-22           1.0  0.026696  0.046719  0.043382  0.052280  0.062291   \n",
       " 2019-09-23           1.0  0.015556  0.032222  0.038889  0.052222  0.052222   \n",
       " \n",
       " period_number              6         7         8         9         10  \n",
       " Day_of_registration                                                    \n",
       " 2019-09-20           0.056920  0.061384  0.045759  0.051339  0.056920  \n",
       " 2019-09-21           0.045657  0.067929  0.053452  0.047884  0.038976  \n",
       " 2019-09-22           0.074527  0.058954  0.050056  0.054505  0.054505  \n",
       " 2019-09-23           0.073333  0.057778  0.044444  0.044444  0.041111  )"
      ]
     },
     "execution_count": 17,
     "metadata": {},
     "output_type": "execute_result"
    },
    {
     "data": {
      "image/png": "[encoded data removed]",
      "text/plain": [
       "<Figure size 864x576 with 3 Axes>"
      ]
     },
     "metadata": {},
     "output_type": "display_data"
    }
   ],
   "source": [
    "# пробуем еще на других датах\n",
    "retention_2 = retention(reg_data, auth_data, date_from = '2019-09-20', date_to = '2019-09-23',  number_of_days = 10)\n",
    "retention_2"
   ]
  },
  {
   "cell_type": "code",
   "execution_count": null,
   "metadata": {},
   "outputs": [],
   "source": []
  },
  {
   "cell_type": "markdown",
   "metadata": {},
   "source": [
    "**Задание 2**\n",
    "Имеются результаты A/B теста, в котором двум группам пользователей предлагались различные наборы акционных предложений. Известно, что ARPU в тестовой группе выше на 5%, чем в контрольной. При этом в контрольной группе 1928 игроков из 202103 оказались платящими, а в тестовой – 1805 из 202667.\n",
    "\n",
    "Какой набор предложений можно считать лучшим? Какие метрики стоит проанализировать для принятия правильного решения и как?"
   ]
  },
  {
   "cell_type": "code",
   "execution_count": 74,
   "metadata": {},
   "outputs": [],
   "source": [
    "# считываем данные для задания 2\n",
    "df2 = pd.read_csv('Проект_1_Задание_2.csv', sep = ';')"
   ]
  },
  {
   "cell_type": "code",
   "execution_count": 75,
   "metadata": {},
   "outputs": [
    {
     "data": {
      "text/html": [
       "<div>\n",
       "<style scoped>\n",
       "    .dataframe tbody tr th:only-of-type {\n",
       "        vertical-align: middle;\n",
       "    }\n",
       "\n",
       "    .dataframe tbody tr th {\n",
       "        vertical-align: top;\n",
       "    }\n",
       "\n",
       "    .dataframe thead th {\n",
       "        text-align: right;\n",
       "    }\n",
       "</style>\n",
       "<table border=\"1\" class=\"dataframe\">\n",
       "  <thead>\n",
       "    <tr style=\"text-align: right;\">\n",
       "      <th></th>\n",
       "      <th>user_id</th>\n",
       "      <th>revenue</th>\n",
       "      <th>testgroup</th>\n",
       "    </tr>\n",
       "  </thead>\n",
       "  <tbody>\n",
       "    <tr>\n",
       "      <th>0</th>\n",
       "      <td>1</td>\n",
       "      <td>0</td>\n",
       "      <td>b</td>\n",
       "    </tr>\n",
       "    <tr>\n",
       "      <th>1</th>\n",
       "      <td>2</td>\n",
       "      <td>0</td>\n",
       "      <td>a</td>\n",
       "    </tr>\n",
       "    <tr>\n",
       "      <th>2</th>\n",
       "      <td>3</td>\n",
       "      <td>0</td>\n",
       "      <td>a</td>\n",
       "    </tr>\n",
       "    <tr>\n",
       "      <th>3</th>\n",
       "      <td>4</td>\n",
       "      <td>0</td>\n",
       "      <td>b</td>\n",
       "    </tr>\n",
       "    <tr>\n",
       "      <th>4</th>\n",
       "      <td>5</td>\n",
       "      <td>0</td>\n",
       "      <td>b</td>\n",
       "    </tr>\n",
       "  </tbody>\n",
       "</table>\n",
       "</div>"
      ],
      "text/plain": [
       "   user_id  revenue testgroup\n",
       "0        1        0         b\n",
       "1        2        0         a\n",
       "2        3        0         a\n",
       "3        4        0         b\n",
       "4        5        0         b"
      ]
     },
     "execution_count": 75,
     "metadata": {},
     "output_type": "execute_result"
    }
   ],
   "source": [
    "# смотрим на данные \n",
    "df2.head()"
   ]
  },
  {
   "cell_type": "code",
   "execution_count": 76,
   "metadata": {},
   "outputs": [
    {
     "data": {
      "text/plain": [
       "(404770, 3)"
      ]
     },
     "execution_count": 76,
     "metadata": {},
     "output_type": "execute_result"
    }
   ],
   "source": [
    "# смотри размеры датафрэймов\n",
    "df2.shape"
   ]
  },
  {
   "cell_type": "code",
   "execution_count": 77,
   "metadata": {},
   "outputs": [
    {
     "data": {
      "text/plain": [
       "user_id      0\n",
       "revenue      0\n",
       "testgroup    0\n",
       "dtype: int64"
      ]
     },
     "execution_count": 77,
     "metadata": {},
     "output_type": "execute_result"
    }
   ],
   "source": [
    "# проверим есть ли пропущенные значений\n",
    "df2.isna().sum()"
   ]
  },
  {
   "cell_type": "code",
   "execution_count": 78,
   "metadata": {},
   "outputs": [
    {
     "data": {
      "text/plain": [
       "True"
      ]
     },
     "execution_count": 78,
     "metadata": {},
     "output_type": "execute_result"
    }
   ],
   "source": [
    "# проверим все ли пользователи уникальные\n",
    "df2.user_id.nunique() == df2.shape[0]"
   ]
  },
  {
   "cell_type": "code",
   "execution_count": 79,
   "metadata": {},
   "outputs": [
    {
     "data": {
      "text/plain": [
       "user_id       int64\n",
       "revenue       int64\n",
       "testgroup    object\n",
       "dtype: object"
      ]
     },
     "execution_count": 79,
     "metadata": {},
     "output_type": "execute_result"
    }
   ],
   "source": [
    "# смотрим на типы данных\n",
    "df2.dtypes"
   ]
  },
  {
   "cell_type": "markdown",
   "metadata": {},
   "source": [
    "**Выводы по данным:**\n",
    "    - все пользователи уникальны;\n",
    "    - пропущенных значений в данных нет."
   ]
  },
  {
   "cell_type": "code",
   "execution_count": 80,
   "metadata": {},
   "outputs": [],
   "source": [
    "# Для удобства исследований введём переменный, \n",
    "\n",
    "# \"а\" - контрольная группа\n",
    "# \"b\" - тестовая группа\n",
    "\n",
    "control = df2.query('testgroup == \"a\"')\n",
    "test = df2.query('testgroup == \"b\"')\n",
    "\n",
    "control_pays = df2.query('testgroup == \"a\" and revenue != 0')\n",
    "test_pays = df2.query('testgroup == \"b\" and revenue != 0')"
   ]
  },
  {
   "cell_type": "code",
   "execution_count": 81,
   "metadata": {},
   "outputs": [
    {
     "name": "stdout",
     "output_type": "stream",
     "text": [
      "ARPU в тестовой группе выше на 5.0 %, чем в контрольной\n"
     ]
    }
   ],
   "source": [
    "# В задании сказано, что ARPU в тестовой группе выше на 5%, чем в контрольной, проверим, так ли это:\n",
    "\n",
    "# введем функцию ARPU\n",
    "def ARPU (sample):\n",
    "    return sample.sum() / sample.count()\n",
    "\n",
    "\n",
    "ARPU_control = ARPU(control.revenue)\n",
    "ARPU_test = ARPU(test.revenue)\n",
    "\n",
    "diff_ARPU = ((ARPU_test/ARPU_control * 100) - 100).round(0)\n",
    "\n",
    "print(f'ARPU в тестовой группе выше на {diff_ARPU} %, чем в контрольной')"
   ]
  },
  {
   "cell_type": "code",
   "execution_count": 82,
   "metadata": {},
   "outputs": [
    {
     "data": {
      "text/html": [
       "<div>\n",
       "<style scoped>\n",
       "    .dataframe tbody tr th:only-of-type {\n",
       "        vertical-align: middle;\n",
       "    }\n",
       "\n",
       "    .dataframe tbody tr th {\n",
       "        vertical-align: top;\n",
       "    }\n",
       "\n",
       "    .dataframe thead th {\n",
       "        text-align: right;\n",
       "    }\n",
       "</style>\n",
       "<table border=\"1\" class=\"dataframe\">\n",
       "  <thead>\n",
       "    <tr style=\"text-align: right;\">\n",
       "      <th></th>\n",
       "      <th>testgroup</th>\n",
       "      <th>revenue</th>\n",
       "      <th>number_of_users</th>\n",
       "      <th>CR</th>\n",
       "    </tr>\n",
       "  </thead>\n",
       "  <tbody>\n",
       "    <tr>\n",
       "      <th>0</th>\n",
       "      <td>a</td>\n",
       "      <td>1928</td>\n",
       "      <td>202103</td>\n",
       "      <td>0.009540</td>\n",
       "    </tr>\n",
       "    <tr>\n",
       "      <th>1</th>\n",
       "      <td>b</td>\n",
       "      <td>1805</td>\n",
       "      <td>202667</td>\n",
       "      <td>0.008906</td>\n",
       "    </tr>\n",
       "  </tbody>\n",
       "</table>\n",
       "</div>"
      ],
      "text/plain": [
       "  testgroup  revenue  number_of_users        CR\n",
       "0         a     1928           202103  0.009540\n",
       "1         b     1805           202667  0.008906"
      ]
     },
     "execution_count": 82,
     "metadata": {},
     "output_type": "execute_result"
    }
   ],
   "source": [
    "# Так же посмотрим конверсию, в задании говориться что в контрольной группе 1928 игроков из 202103 оказались платящими, \n",
    "# а в тестовой – 1805 из 202667\n",
    "\n",
    "# создадаим функцию для расчета платящих пользователей\n",
    "\n",
    "def rev(x):\n",
    "    return (x > 0).sum()\n",
    "\n",
    "# посчитаем количество всех пользователей и количество пользоватлей, совершивших покупку\n",
    "CR_df = df2.groupby('testgroup', as_index = False) \\\n",
    "          .agg({'revenue': rev, 'user_id':'count'}) \\\n",
    "          .rename(columns = {'user_id': 'number_of_users'})\n",
    "\n",
    "# посчитаем конверсию\n",
    "CR_df['CR'] = CR_df.revenue / CR_df.number_of_users\n",
    "\n",
    "CR_df"
   ]
  },
  {
   "cell_type": "code",
   "execution_count": 83,
   "metadata": {},
   "outputs": [
    {
     "data": {
      "text/plain": [
       "7.0"
      ]
     },
     "execution_count": 83,
     "metadata": {},
     "output_type": "execute_result"
    }
   ],
   "source": [
    "# Действительно конверсия в контрольной группе выше\n",
    "# посчитаем разницу в СR\n",
    "\n",
    "CR_diff = ((CR_df[CR_df.testgroup == 'a'].CR.sum() / CR_df[CR_df.testgroup == 'b'].CR.sum() * 100) - 100).round(0)\n",
    "CR_diff"
   ]
  },
  {
   "cell_type": "code",
   "execution_count": 84,
   "metadata": {},
   "outputs": [
    {
     "data": {
      "text/plain": [
       "count    202103.000000\n",
       "mean         25.413720\n",
       "std         920.768137\n",
       "min           0.000000\n",
       "25%           0.000000\n",
       "50%           0.000000\n",
       "75%           0.000000\n",
       "max       37433.000000\n",
       "Name: revenue, dtype: float64"
      ]
     },
     "execution_count": 84,
     "metadata": {},
     "output_type": "execute_result"
    },
    {
     "data": {
      "image/png": "[encoded data removed]",
      "text/plain": [
       "<Figure size 432x288 with 1 Axes>"
      ]
     },
     "metadata": {},
     "output_type": "display_data"
    }
   ],
   "source": [
    "# посмотрим на распределение данных в контрольной группе\n",
    "\n",
    "sns.histplot(x = 'revenue', data = control )\n",
    "control.revenue.describe()"
   ]
  },
  {
   "cell_type": "code",
   "execution_count": 85,
   "metadata": {},
   "outputs": [
    {
     "data": {
      "text/plain": [
       "count    202667.000000\n",
       "mean         26.751287\n",
       "std         287.324162\n",
       "min           0.000000\n",
       "25%           0.000000\n",
       "50%           0.000000\n",
       "75%           0.000000\n",
       "max        4000.000000\n",
       "Name: revenue, dtype: float64"
      ]
     },
     "execution_count": 85,
     "metadata": {},
     "output_type": "execute_result"
    },
    {
     "data": {
      "image/png": "[encoded data removed]",
      "text/plain": [
       "<Figure size 432x288 with 1 Axes>"
      ]
     },
     "metadata": {},
     "output_type": "display_data"
    }
   ],
   "source": [
    "# посмотрим на распределение данных в тестовой группе\n",
    "\n",
    "sns.histplot(x = 'revenue', data = test )\n",
    "test.revenue.describe()"
   ]
  },
  {
   "cell_type": "markdown",
   "metadata": {},
   "source": [
    "За счет нулей оба распределения скошены влево, и мы не видем рельной картины, попробуем посмотреть распределение если мы исключим ноль в данных."
   ]
  },
  {
   "cell_type": "code",
   "execution_count": 86,
   "metadata": {},
   "outputs": [
    {
     "data": {
      "text/plain": [
       "count    1805.000000\n",
       "mean     3003.658172\n",
       "std       572.619709\n",
       "min      2000.000000\n",
       "25%      2513.000000\n",
       "50%      3022.000000\n",
       "75%      3478.000000\n",
       "max      4000.000000\n",
       "Name: revenue, dtype: float64"
      ]
     },
     "execution_count": 86,
     "metadata": {},
     "output_type": "execute_result"
    },
    {
     "data": {
      "image/png": "[encoded data removed]",
      "text/plain": [
       "<Figure size 360x360 with 1 Axes>"
      ]
     },
     "metadata": {},
     "output_type": "display_data"
    }
   ],
   "source": [
    "# распределение в тестовой группе платящих игроков\n",
    "sns.displot(test_pays.revenue, aspect=1, bins=20)\n",
    "test_pays.revenue.describe()"
   ]
  },
  {
   "cell_type": "code",
   "execution_count": 87,
   "metadata": {},
   "outputs": [
    {
     "data": {
      "text/plain": [
       "count     1928.000000\n",
       "mean      2663.998444\n",
       "std       9049.039763\n",
       "min        200.000000\n",
       "25%        257.000000\n",
       "50%        311.000000\n",
       "75%        361.000000\n",
       "max      37433.000000\n",
       "Name: revenue, dtype: float64"
      ]
     },
     "execution_count": 87,
     "metadata": {},
     "output_type": "execute_result"
    },
    {
     "data": {
      "image/png": "[encoded data removed]",
      "text/plain": [
       "<Figure size 360x360 with 1 Axes>"
      ]
     },
     "metadata": {},
     "output_type": "display_data"
    }
   ],
   "source": [
    "# распределение в контрольной группе платящих игроков\n",
    "sns.displot(control_pays.revenue, aspect=1, bins=20)\n",
    "control_pays.revenue.describe()"
   ]
  },
  {
   "cell_type": "code",
   "execution_count": 88,
   "metadata": {},
   "outputs": [
    {
     "data": {
      "text/plain": [
       "<matplotlib.axes._subplots.AxesSubplot at 0x7f2e58718710>"
      ]
     },
     "execution_count": 88,
     "metadata": {},
     "output_type": "execute_result"
    },
    {
     "data": {
      "image/png": "[encoded data removed]",
      "text/plain": [
       "<Figure size 432x288 with 1 Axes>"
      ]
     },
     "metadata": {},
     "output_type": "display_data"
    }
   ],
   "source": [
    "# так же гляним на боксплот на всех пользователей\n",
    "sns.boxplot(x=\"testgroup\", y=\"revenue\", data=df2)"
   ]
  },
  {
   "cell_type": "code",
   "execution_count": 89,
   "metadata": {},
   "outputs": [
    {
     "data": {
      "text/plain": [
       "<matplotlib.axes._subplots.AxesSubplot at 0x7f2e77a52668>"
      ]
     },
     "execution_count": 89,
     "metadata": {},
     "output_type": "execute_result"
    },
    {
     "data": {
      "image/png": "[encoded data removed]",
      "text/plain": [
       "<Figure size 432x288 with 1 Axes>"
      ]
     },
     "metadata": {},
     "output_type": "display_data"
    }
   ],
   "source": [
    "# и только на тех, что совершил покупку\n",
    "\n",
    "sns.boxplot(x=\"testgroup\", y=\"revenue\", data=df2.query('revenue != 0'))"
   ]
  },
  {
   "cell_type": "markdown",
   "metadata": {},
   "source": [
    "**На этих графиках мы видим:**\n",
    "\n",
    "\n",
    "    - в тестовой группе платежи явно отличаются по сумме покупок от контрольной: \n",
    "        в тестовой распределение равномерное, \n",
    "        в контрольной большинство платежей до 500 и есть выбросы;\n",
    "    - из-за выбросов в контрольной группе среднее очень сильно искажено.\n",
    "    - среднее по всей выборке в контрольной группе - 25.41 и в тестовой - 26.75.\n",
    "    - медиана по всей выборке в контрольной группе - 0 и в тестовой тоже 0.\n",
    "    - среднее у платящих игроков в контрольной группе - 2663, а у тестовой - 3003.\n",
    "    - медиана у платящих игроков в контрольной группе - 311, а у тестовой - 3022."
   ]
  },
  {
   "cell_type": "code",
   "execution_count": 90,
   "metadata": {},
   "outputs": [
    {
     "data": {
      "text/html": [
       "<div>\n",
       "<style scoped>\n",
       "    .dataframe tbody tr th:only-of-type {\n",
       "        vertical-align: middle;\n",
       "    }\n",
       "\n",
       "    .dataframe tbody tr th {\n",
       "        vertical-align: top;\n",
       "    }\n",
       "\n",
       "    .dataframe thead th {\n",
       "        text-align: right;\n",
       "    }\n",
       "</style>\n",
       "<table border=\"1\" class=\"dataframe\">\n",
       "  <thead>\n",
       "    <tr style=\"text-align: right;\">\n",
       "      <th></th>\n",
       "      <th>user_id</th>\n",
       "      <th>revenue</th>\n",
       "      <th>testgroup</th>\n",
       "    </tr>\n",
       "  </thead>\n",
       "  <tbody>\n",
       "    <tr>\n",
       "      <th>416</th>\n",
       "      <td>417</td>\n",
       "      <td>37324</td>\n",
       "      <td>a</td>\n",
       "    </tr>\n",
       "    <tr>\n",
       "      <th>4428</th>\n",
       "      <td>4429</td>\n",
       "      <td>37304</td>\n",
       "      <td>a</td>\n",
       "    </tr>\n",
       "    <tr>\n",
       "      <th>5777</th>\n",
       "      <td>5778</td>\n",
       "      <td>37315</td>\n",
       "      <td>a</td>\n",
       "    </tr>\n",
       "    <tr>\n",
       "      <th>8065</th>\n",
       "      <td>8066</td>\n",
       "      <td>37307</td>\n",
       "      <td>a</td>\n",
       "    </tr>\n",
       "    <tr>\n",
       "      <th>8743</th>\n",
       "      <td>8744</td>\n",
       "      <td>37334</td>\n",
       "      <td>a</td>\n",
       "    </tr>\n",
       "    <tr>\n",
       "      <th>...</th>\n",
       "      <td>...</td>\n",
       "      <td>...</td>\n",
       "      <td>...</td>\n",
       "    </tr>\n",
       "    <tr>\n",
       "      <th>360696</th>\n",
       "      <td>360697</td>\n",
       "      <td>37347</td>\n",
       "      <td>a</td>\n",
       "    </tr>\n",
       "    <tr>\n",
       "      <th>378668</th>\n",
       "      <td>378669</td>\n",
       "      <td>37297</td>\n",
       "      <td>a</td>\n",
       "    </tr>\n",
       "    <tr>\n",
       "      <th>389341</th>\n",
       "      <td>389342</td>\n",
       "      <td>37298</td>\n",
       "      <td>a</td>\n",
       "    </tr>\n",
       "    <tr>\n",
       "      <th>394580</th>\n",
       "      <td>394581</td>\n",
       "      <td>37302</td>\n",
       "      <td>a</td>\n",
       "    </tr>\n",
       "    <tr>\n",
       "      <th>399294</th>\n",
       "      <td>399295</td>\n",
       "      <td>37321</td>\n",
       "      <td>a</td>\n",
       "    </tr>\n",
       "  </tbody>\n",
       "</table>\n",
       "<p>123 rows × 3 columns</p>\n",
       "</div>"
      ],
      "text/plain": [
       "        user_id  revenue testgroup\n",
       "416         417    37324         a\n",
       "4428       4429    37304         a\n",
       "5777       5778    37315         a\n",
       "8065       8066    37307         a\n",
       "8743       8744    37334         a\n",
       "...         ...      ...       ...\n",
       "360696   360697    37347         a\n",
       "378668   378669    37297         a\n",
       "389341   389342    37298         a\n",
       "394580   394581    37302         a\n",
       "399294   399295    37321         a\n",
       "\n",
       "[123 rows x 3 columns]"
      ]
     },
     "execution_count": 90,
     "metadata": {},
     "output_type": "execute_result"
    }
   ],
   "source": [
    "# Посмотрим что это были за выбросы и сколько их\n",
    "control_pays.query('revenue > 30000')"
   ]
  },
  {
   "cell_type": "code",
   "execution_count": 91,
   "metadata": {},
   "outputs": [
    {
     "name": "stdout",
     "output_type": "stream",
     "text": [
      "6 % играков совершили покупку более чем на 30000\n"
     ]
    }
   ],
   "source": [
    "# Посмотрим какой процент платящих игроков совершили покупку от всех кто совершили покупку на сумму больше 30000\n",
    "\n",
    "diff_control = (control_pays.query('revenue > 30000').shape[0]/ control_pays.query('revenue < 30000').shape[0] * 100)\n",
    "diff_control = int(diff_control) \n",
    "print(f'{diff_control} % играков совершили покупку более чем на 30000')"
   ]
  },
  {
   "cell_type": "markdown",
   "metadata": {},
   "source": [
    "**123 пользователя уже не кажутся выбросами**\n",
    "    \n",
    "Необходимо более конкретно изучить данных игроков, действительно ли они делали такие покупки?"
   ]
  },
  {
   "cell_type": "code",
   "execution_count": 92,
   "metadata": {},
   "outputs": [
    {
     "data": {
      "text/html": [
       "<div>\n",
       "<style scoped>\n",
       "    .dataframe tbody tr th:only-of-type {\n",
       "        vertical-align: middle;\n",
       "    }\n",
       "\n",
       "    .dataframe tbody tr th {\n",
       "        vertical-align: top;\n",
       "    }\n",
       "\n",
       "    .dataframe thead th {\n",
       "        text-align: right;\n",
       "    }\n",
       "</style>\n",
       "<table border=\"1\" class=\"dataframe\">\n",
       "  <thead>\n",
       "    <tr style=\"text-align: right;\">\n",
       "      <th></th>\n",
       "      <th>W</th>\n",
       "      <th>pval</th>\n",
       "      <th>equal_var</th>\n",
       "    </tr>\n",
       "  </thead>\n",
       "  <tbody>\n",
       "    <tr>\n",
       "      <th>levene</th>\n",
       "      <td>0.389629</td>\n",
       "      <td>0.532495</td>\n",
       "      <td>True</td>\n",
       "    </tr>\n",
       "  </tbody>\n",
       "</table>\n",
       "</div>"
      ],
      "text/plain": [
       "               W      pval  equal_var\n",
       "levene  0.389629  0.532495       True"
      ]
     },
     "execution_count": 92,
     "metadata": {},
     "output_type": "execute_result"
    }
   ],
   "source": [
    "# Для проведения статистических тестов проверим, \n",
    "# являются ли дисперсии внутри групп примерно одинаковыми (гомогенными) с помощью теста Левена.\n",
    "\n",
    "pg.homoscedasticity(data=df2, dv=\"revenue\", group=\"testgroup\")"
   ]
  },
  {
   "cell_type": "markdown",
   "metadata": {},
   "source": [
    "**p-value > 0.05, данные имеют одинаковую дисперсию**"
   ]
  },
  {
   "cell_type": "code",
   "execution_count": 93,
   "metadata": {},
   "outputs": [
    {
     "data": {
      "text/html": [
       "<div>\n",
       "<style scoped>\n",
       "    .dataframe tbody tr th:only-of-type {\n",
       "        vertical-align: middle;\n",
       "    }\n",
       "\n",
       "    .dataframe tbody tr th {\n",
       "        vertical-align: top;\n",
       "    }\n",
       "\n",
       "    .dataframe thead th {\n",
       "        text-align: right;\n",
       "    }\n",
       "</style>\n",
       "<table border=\"1\" class=\"dataframe\">\n",
       "  <thead>\n",
       "    <tr style=\"text-align: right;\">\n",
       "      <th></th>\n",
       "      <th>W</th>\n",
       "      <th>pval</th>\n",
       "      <th>equal_var</th>\n",
       "    </tr>\n",
       "  </thead>\n",
       "  <tbody>\n",
       "    <tr>\n",
       "      <th>levene</th>\n",
       "      <td>80.855674</td>\n",
       "      <td>3.779690e-19</td>\n",
       "      <td>False</td>\n",
       "    </tr>\n",
       "  </tbody>\n",
       "</table>\n",
       "</div>"
      ],
      "text/plain": [
       "                W          pval  equal_var\n",
       "levene  80.855674  3.779690e-19      False"
      ]
     },
     "execution_count": 93,
     "metadata": {},
     "output_type": "execute_result"
    }
   ],
   "source": [
    "# проведем такую же проверку на данных без учета тех кто платил\n",
    "pg.homoscedasticity(data=df2.query('revenue != 0'), dv=\"revenue\", group=\"testgroup\")"
   ]
  },
  {
   "cell_type": "markdown",
   "metadata": {},
   "source": [
    "**p-value < 0.05, данные имеют не одинаковую дисперсию**"
   ]
  },
  {
   "cell_type": "code",
   "execution_count": 94,
   "metadata": {},
   "outputs": [
    {
     "data": {
      "text/html": [
       "<div>\n",
       "<style scoped>\n",
       "    .dataframe tbody tr th:only-of-type {\n",
       "        vertical-align: middle;\n",
       "    }\n",
       "\n",
       "    .dataframe tbody tr th {\n",
       "        vertical-align: top;\n",
       "    }\n",
       "\n",
       "    .dataframe thead th {\n",
       "        text-align: right;\n",
       "    }\n",
       "</style>\n",
       "<table border=\"1\" class=\"dataframe\">\n",
       "  <thead>\n",
       "    <tr style=\"text-align: right;\">\n",
       "      <th></th>\n",
       "      <th>W</th>\n",
       "      <th>pval</th>\n",
       "      <th>normal</th>\n",
       "    </tr>\n",
       "  </thead>\n",
       "  <tbody>\n",
       "    <tr>\n",
       "      <th>b</th>\n",
       "      <td>326622.395409</td>\n",
       "      <td>0.0</td>\n",
       "      <td>False</td>\n",
       "    </tr>\n",
       "    <tr>\n",
       "      <th>a</th>\n",
       "      <td>585152.731273</td>\n",
       "      <td>0.0</td>\n",
       "      <td>False</td>\n",
       "    </tr>\n",
       "  </tbody>\n",
       "</table>\n",
       "</div>"
      ],
      "text/plain": [
       "               W  pval  normal\n",
       "b  326622.395409   0.0   False\n",
       "a  585152.731273   0.0   False"
      ]
     },
     "execution_count": 94,
     "metadata": {},
     "output_type": "execute_result"
    }
   ],
   "source": [
    "# проведем тест на нормальность данных, мы, конечно, видим, что распределение не нормальное, \n",
    "# но все же соблюдаем все формальности. H0 - данные имеют нормальное распределение\n",
    "\n",
    "pg.normality(data=df2, dv=\"revenue\", group=\"testgroup\", method=\"normaltest\")"
   ]
  },
  {
   "cell_type": "markdown",
   "metadata": {},
   "source": [
    "**Отклоняем H0.Данные распределены не нормально**"
   ]
  },
  {
   "cell_type": "code",
   "execution_count": 95,
   "metadata": {},
   "outputs": [
    {
     "data": {
      "text/html": [
       "<div>\n",
       "<style scoped>\n",
       "    .dataframe tbody tr th:only-of-type {\n",
       "        vertical-align: middle;\n",
       "    }\n",
       "\n",
       "    .dataframe tbody tr th {\n",
       "        vertical-align: top;\n",
       "    }\n",
       "\n",
       "    .dataframe thead th {\n",
       "        text-align: right;\n",
       "    }\n",
       "</style>\n",
       "<table border=\"1\" class=\"dataframe\">\n",
       "  <thead>\n",
       "    <tr style=\"text-align: right;\">\n",
       "      <th></th>\n",
       "      <th>W</th>\n",
       "      <th>pval</th>\n",
       "      <th>normal</th>\n",
       "    </tr>\n",
       "  </thead>\n",
       "  <tbody>\n",
       "    <tr>\n",
       "      <th>a</th>\n",
       "      <td>1394.945784</td>\n",
       "      <td>1.234161e-303</td>\n",
       "      <td>False</td>\n",
       "    </tr>\n",
       "    <tr>\n",
       "      <th>b</th>\n",
       "      <td>1068.860008</td>\n",
       "      <td>7.943249e-233</td>\n",
       "      <td>False</td>\n",
       "    </tr>\n",
       "  </tbody>\n",
       "</table>\n",
       "</div>"
      ],
      "text/plain": [
       "             W           pval  normal\n",
       "a  1394.945784  1.234161e-303   False\n",
       "b  1068.860008  7.943249e-233   False"
      ]
     },
     "execution_count": 95,
     "metadata": {},
     "output_type": "execute_result"
    }
   ],
   "source": [
    "# Так же проведем тест на нормальность с только для платящих пользователей, H0 - данные имеют нормальное распределение\n",
    "\n",
    "pg.normality(data=df2.query('revenue != 0'), dv=\"revenue\", group=\"testgroup\", method=\"normaltest\")"
   ]
  },
  {
   "cell_type": "markdown",
   "metadata": {},
   "source": [
    "**Отклоняем H0. Данные распределены не нормально**"
   ]
  },
  {
   "cell_type": "code",
   "execution_count": 96,
   "metadata": {},
   "outputs": [
    {
     "name": "stdout",
     "output_type": "stream",
     "text": [
      "p-value - 0.035028524642854865\n"
     ]
    }
   ],
   "source": [
    "# посмотрим действительно ли есть стат значимые различия в пропорциях игроков / платящих игроков в группах\n",
    "\n",
    "user_pay = np.array([1805, 1928])\n",
    "user = np.array([202667, 202103])\n",
    "stat, pval = proportions_ztest(user_pay, user)\n",
    "\n",
    "print(f'p-value - {pval}')\n"
   ]
  },
  {
   "cell_type": "markdown",
   "metadata": {},
   "source": [
    "**p-value < 0,05, значит различия действительно значемые**"
   ]
  },
  {
   "cell_type": "code",
   "execution_count": 97,
   "metadata": {},
   "outputs": [
    {
     "data": {
      "text/plain": [
       "MannwhitneyuResult(statistic=20491259376.0, pvalue=0.06269701316074398)"
      ]
     },
     "execution_count": 97,
     "metadata": {},
     "output_type": "execute_result"
    }
   ],
   "source": [
    "# при проверке данных на гомогенность и нормальность выяснилось, что дисперсии внутри групп примерно одинаковые, \n",
    "# но распределение не нормальное, более того в контрольной группе явные выбросы, по этим причинам по-моему мнению использование\n",
    "# Т-теста тут не очень корректно, но проверить U-критерий Манна — Уитни можно, так как как он не чувствителен к выбросам. \n",
    "\n",
    "mannwhitneyu(df2[df2.testgroup == 'a'].revenue, \n",
    "             df2[df2.testgroup == 'b'].revenue)"
   ]
  },
  {
   "cell_type": "markdown",
   "metadata": {},
   "source": [
    "**U-критерий Манна — Уитни показал p-value > 0.05 а это значит, что значимых отличий в выборках нет**  "
   ]
  },
  {
   "cell_type": "markdown",
   "metadata": {},
   "source": [
    "При исследовании  данных мы увидели, что платежи платящих играков между группами очень различаются, \n",
    "я считаю что нельзя оставить без внимания именно этот факт, так как страктура данных совершенно разная:\n",
    "\n",
    "- среднее у платящих играков в контрольной группе - 2663, а у тестовой - 3003.\n",
    "- медиана у платящих играков в контрольной группе - 311, а у тестовой - 3022.\n",
    "\n",
    "При исследовании на гомогенность и нормальность выяснилось, что дисперсии внутри групп платащих играков не одинаковые, \n",
    "и распределение не норамльное, значит для исследования нам не подходит T-тест. \n",
    "\n",
    "Я думаю, что тут будет лучше всего, проверить нулевую гипотезу о равенстве медиан (ARPPU) с помощью бутстрапа, \n",
    "так как в контрольной группе имеются выбросы. \n"
   ]
  },
  {
   "cell_type": "code",
   "execution_count": 103,
   "metadata": {},
   "outputs": [],
   "source": [
    "# введем функцию для расчетна методом бутстрап\n",
    "\n",
    "def get_bootstrap(\n",
    "    data_column_1, # числовые значения первой выборки\n",
    "    data_column_2, # числовые значения второй выборки\n",
    "    boot_it = 1000, # количество бутстрэп-подвыборок\n",
    "    statistic = np.mean, # интересующая нас статистика\n",
    "    bootstrap_conf_level = 0.95 # уровень значимости\n",
    "):\n",
    "    boot_len = max([len(data_column_1), len(data_column_2)])\n",
    "    boot_data = []\n",
    "    for i in tqdm(range(boot_it)): # извлекаем подвыборки\n",
    "        samples_1 = data_column_1.sample(\n",
    "            boot_len, \n",
    "            replace = True # параметр возвращения\n",
    "        ).values\n",
    "        \n",
    "        samples_2 = data_column_2.sample(\n",
    "            boot_len, \n",
    "            replace = True\n",
    "        ).values\n",
    "        \n",
    "        boot_data.append(statistic(samples_1-samples_2)) # mean() - применяем статистику\n",
    "        \n",
    "    pd_boot_data = pd.DataFrame(boot_data)\n",
    "        \n",
    "    left_quant = (1 - bootstrap_conf_level)/2\n",
    "    right_quant = 1 - (1 - bootstrap_conf_level) / 2\n",
    "    ci = pd_boot_data.quantile([left_quant, right_quant])\n",
    "        \n",
    "    p_1 = norm.cdf(\n",
    "        x = 0, \n",
    "        loc = np.mean(boot_data), \n",
    "        scale = np.std(boot_data)\n",
    "    )\n",
    "    p_2 = norm.cdf(\n",
    "        x = 0, \n",
    "        loc = -np.mean(boot_data), \n",
    "        scale = np.std(boot_data)\n",
    "    )\n",
    "    p_value = min(p_1, p_2) * 2\n",
    "        \n",
    "    # Визуализация\n",
    "    plt.hist(pd_boot_data[0], bins = 50)\n",
    "    \n",
    "    plt.style.use('ggplot')\n",
    "    plt.vlines(ci,ymin=0,ymax=50,linestyle='--')\n",
    "    plt.xlabel('boot_data')\n",
    "    plt.ylabel('frequency')\n",
    "    plt.title(\"Histogram of boot_data\")\n",
    "    plt.show()\n",
    "       \n",
    "    return {\"boot_data\": boot_data, \n",
    "            \"ci\": ci, \n",
    "            \"p_value\": p_value}"
   ]
  },
  {
   "cell_type": "code",
   "execution_count": 104,
   "metadata": {},
   "outputs": [
    {
     "data": {
      "application/vnd.jupyter.widget-view+json": {
       "model_id": "ebe25b53a4ea43a79288845d6eaa5f21",
       "version_major": 2,
       "version_minor": 0
      },
      "text/plain": [
       "HBox(children=(FloatProgress(value=0.0, max=1000.0), HTML(value='')))"
      ]
     },
     "metadata": {},
     "output_type": "display_data"
    },
    {
     "name": "stdout",
     "output_type": "stream",
     "text": [
      "\n"
     ]
    },
    {
     "data": {
      "image/png": "[encoded data removed]",
      "text/plain": [
       "<Figure size 432x288 with 1 Axes>"
      ]
     },
     "metadata": {},
     "output_type": "display_data"
    }
   ],
   "source": [
    "booted_data_median = get_bootstrap(control_pays.revenue, test_pays.revenue, statistic = np.median)"
   ]
  },
  {
   "cell_type": "code",
   "execution_count": 101,
   "metadata": {},
   "outputs": [
    {
     "data": {
      "text/plain": [
       "0.0"
      ]
     },
     "execution_count": 101,
     "metadata": {},
     "output_type": "execute_result"
    }
   ],
   "source": [
    "booted_data_median[\"p_value\"]"
   ]
  },
  {
   "cell_type": "code",
   "execution_count": 102,
   "metadata": {},
   "outputs": [
    {
     "data": {
      "text/html": [
       "<div>\n",
       "<style scoped>\n",
       "    .dataframe tbody tr th:only-of-type {\n",
       "        vertical-align: middle;\n",
       "    }\n",
       "\n",
       "    .dataframe tbody tr th {\n",
       "        vertical-align: top;\n",
       "    }\n",
       "\n",
       "    .dataframe thead th {\n",
       "        text-align: right;\n",
       "    }\n",
       "</style>\n",
       "<table border=\"1\" class=\"dataframe\">\n",
       "  <thead>\n",
       "    <tr style=\"text-align: right;\">\n",
       "      <th></th>\n",
       "      <th>0</th>\n",
       "    </tr>\n",
       "  </thead>\n",
       "  <tbody>\n",
       "    <tr>\n",
       "      <th>0.025</th>\n",
       "      <td>-2695.0000</td>\n",
       "    </tr>\n",
       "    <tr>\n",
       "      <th>0.975</th>\n",
       "      <td>-2596.9875</td>\n",
       "    </tr>\n",
       "  </tbody>\n",
       "</table>\n",
       "</div>"
      ],
      "text/plain": [
       "               0\n",
       "0.025 -2695.0000\n",
       "0.975 -2596.9875"
      ]
     },
     "execution_count": 102,
     "metadata": {},
     "output_type": "execute_result"
    }
   ],
   "source": [
    "booted_data_median['ci'] #Доверительный интервал"
   ]
  },
  {
   "cell_type": "markdown",
   "metadata": {},
   "source": [
    "**p_value < 0,05, доверительный интервал не включает 0, следовательно есть статзначемые отличия в медианах контеольной и тестовой группы.** "
   ]
  },
  {
   "cell_type": "markdown",
   "metadata": {},
   "source": [
    "_____________________________________\n",
    "\n",
    "\n",
    "**ВЫВОД:**\n",
    "\n",
    "Не смотря на то что платящих в контрольной группе оказалось больше на 7 % и это стат значимые различия, \n",
    "при проведении исследований было выявлено что в контрольной группе есть значительные выбросы, \n",
    "которые требуют дополнительного исследования.(Необходимо понимать, данные покупки совершаются на постоянно основе или это разовые)\n",
    "\n",
    "При наличии выбросов в данных использование среднего (или ARPU) может привести к искажению результата. \n",
    "Поэтому было принято решение провести тесты по медиане (ARPPU)с использованием бутстрап. \n",
    "\n",
    "\n",
    "Тест показал стат значимые различия в медиане\n",
    "\n",
    " - медиана у платящих игроков в контрольной группе - 311, \n",
    " - медиана у платящих игроков в тестовой группе - 3022.\n",
    " \n",
    "**Итог:** Набор предложений в тестовой группе можно считать лучшим, так как игроки совершали более дорогие покупки.   "
   ]
  },
  {
   "cell_type": "code",
   "execution_count": null,
   "metadata": {},
   "outputs": [],
   "source": []
  },
  {
   "cell_type": "markdown",
   "metadata": {},
   "source": [
    "**Задание 3**\n",
    "\n",
    "  1.В игре Plants & Gardens каждый месяц проводятся тематические события, ограниченные по времени. \n",
    "    В них игроки могут получить уникальные предметы для сада и персонажей, дополнительные монеты или бонусы. \n",
    "    Для получения награды требуется пройти ряд уровней за определенное время. \n",
    "    С помощью каких метрик можно оценить результаты последнего прошедшего события?\n",
    "\n"
   ]
  },
  {
   "cell_type": "markdown",
   "metadata": {},
   "source": [
    "**Ответ**\n",
    "\n",
    "**Number of unique players per event** -  первая метрика от которой нужно отталкиваться, это количество уникальных игроков которые посетили данную акцию. Сравнивать с предыдущими тематическими событиями. Это необходимо для понимания общей динамики событий.\n",
    "\n",
    "**Event Retention** - затем я бы сегментировала игроков и посмотрела, сколько были на прошлых акциях и сколько новых игроков. Если процент возвращения большой, значит предыдущее тематическое событие прошло хорошо и люди пришли еще раз, и текущее можно оценить так же после завершения след события.  \n",
    "\n",
    "**Average amount of time** - сколько игрок провел времени проходя данное тематическое событие. Можно посчитать среднее по дням и по всему событию, а так же по прохождению уровня.\n",
    "\n",
    "**Levels Retention**  - количество людей переходивших на каждый уровень, что бы посмотреть интерес к событию, и на каком уровне отваливаются пользователи\n",
    "\n",
    "**Number of earned coins and/or characters** - cколько монет и/или персонажей заработано за тематическое событие. Чем больше монет заработано, тем больше вероятность что игрок вернется в основную игру и будет там проводить больше времени и пойдет на следующее событие. Но этот показатель так же не должен быть очень большим, так как из-за лёгкости получения монет и персонажей некоторые игроки, которые любят \"по сложнее\" могут отвалиться.\n",
    "\n",
    "**Number of spended coins and/or characters** - если для прохождения данной игру/события нужно покупать какое-то оборудование или еще что-то, то необходимо посчитать сколько денег принесло данное событие\n",
    "\n",
    "\n",
    "**Retention** - посмотреть основной ретеншен по игре, увеличилось ли количество активных игроков после проведения данного тематического события.\n",
    "\n",
    "**Revenue** - если в этой игре необходимо что-то покупать, посмотреть, на сколько увеличился доход после проведения события. \n",
    "\n",
    "Ну и какие-то не сильно очевидные метрики, которые сложнее отследить:\n",
    "\n",
    "- упоминание данного тематического события на тематических сайтах или форумах, соц.сетях.\n",
    "- если там были уникальные персонажи, которые можно,  продавать, стоимость этих персонажей. "
   ]
  },
  {
   "cell_type": "markdown",
   "metadata": {},
   "source": [
    "   2.Предположим, в другом событии мы усложнили механику событий так, \n",
    "     что при каждой неудачной попытке выполнения уровня игрок будет откатываться на несколько уровней назад. \n",
    "     Изменится ли набор метрик оценки результата? Если да, то как?"
   ]
  },
  {
   "cell_type": "markdown",
   "metadata": {},
   "source": [
    "**Ответ** При таком усложнении механики, необходимо добавить пару метрик. \n",
    "\n",
    "**Return_rate** - Самое главное, посмотреть, возвращаются ли игроки после того как они провалили уровень. И какой процент.\n",
    "\n",
    "**Number of attempts** - и еще добавить метрику, которая считает, сколько было попыток после того как игрок откатился назад."
   ]
  },
  {
   "cell_type": "code",
   "execution_count": null,
   "metadata": {},
   "outputs": [],
   "source": []
  }
 ],
 "metadata": {
  "kernelspec": {
   "display_name": "Python 3",
   "language": "python",
   "name": "python3"
  },
  "language_info": {
   "codemirror_mode": {
    "name": "ipython",
    "version": 3
   },
   "file_extension": ".py",
   "mimetype": "text/x-python",
   "name": "python",
   "nbconvert_exporter": "python",
   "pygments_lexer": "ipython3",
   "version": "3.7.3"
  }
 },
 "nbformat": 4,
 "nbformat_minor": 4
}
